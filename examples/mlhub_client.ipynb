{
  "nbformat": 4,
  "nbformat_minor": 0,
  "metadata": {
    "colab": {
      "name": "mlhub-client.ipynb",
      "private_outputs": true,
      "provenance": [],
      "collapsed_sections": []
    },
    "kernelspec": {
      "name": "python3",
      "display_name": "Python 3"
    }
  },
  "cells": [
    {
      "cell_type": "markdown",
      "metadata": {
        "id": "1ZheRYLJt7QP"
      },
      "source": [
        "<a target=\"_blank\"  href=\"https://colab.research.google.com/github/dataJSA/radiant-mlhub/blob/master/examples/mlhub_client.ipynb\">\n",
        "    <img height=\"45px\" src=\"https://colab.research.google.com/img/colab_favicon_256px.png\"/> \n",
        "    Run in Google Colab\n",
        "  </a>\n",
        "\n",
        "  <h1>Getting Started with the Radiant MLHub API Using The MLHub Client</h1>\n",
        "\n",
        "The Radiant MLHub is an open library for geospatial training data to advance machine learning applications on Earth Observations. The training datasets include pairs of imagery and labels for different types of ML problems including image classification, object detection, and semantic segmentation.\n",
        "\n",
        "\n",
        "The Radiant MLHub API gives access to the different datasets. You can access the full API documentation at [docs.mlhub.earth](docs.mlhub.earth) and check the [Radiant MLHub site](https://mlhub.earth). "
      ]
    },
    {
      "cell_type": "markdown",
      "metadata": {
        "id": "ea7TnRF45eQW"
      },
      "source": [
        "**<p align=\"center\">This notebook demonstrates how to download the full [LandCoverNet](https://medium.com/radiant-earth-insights/radiant-earth-foundation-releases-the-benchmark-training-data-landcovernet-for-africa-7e8906e846a3) using the Radiant MLhub API.</p>**\n",
        "> LandCoverNet is an annual land cover classification training dataset with labels for the multi-spectral high-quality satellite imagery from Sentinel-2 satellites, covering Africa, Asia, Australia, Europe, North America, and South America."
      ]
    },
    {
      "cell_type": "markdown",
      "metadata": {
        "id": "7P-ybvQW4tuc"
      },
      "source": [
        "## Setup"
      ]
    },
    {
      "cell_type": "markdown",
      "metadata": {
        "id": "f_mHBZQr5Jwt"
      },
      "source": [
        "### Package Requirements"
      ]
    },
    {
      "cell_type": "code",
      "metadata": {
        "id": "8UjGnIBHt0Ib"
      },
      "source": [
        "!pip install git+https://github.com/dataJSA/radiant-mlhub"
      ],
      "execution_count": null,
      "outputs": []
    },
    {
      "cell_type": "markdown",
      "metadata": {
        "id": "sa-0_cML433P"
      },
      "source": [
        "### Setup Requirements"
      ]
    },
    {
      "cell_type": "code",
      "metadata": {
        "id": "E6pHh8JHALR9"
      },
      "source": [
        "import pandas as pd\n",
        "\n",
        "from mlhub import mlhub\n",
        "from itertools import chain\n",
        "from urllib.parse import urlparse\n",
        "from google.colab import drive, files\n",
        "\n",
        "\n",
        "from IPython.core.interactiveshell import InteractiveShell\n",
        "InteractiveShell.ast_node_interactivity = \"all\"\n",
        "%matplotlib inline"
      ],
      "execution_count": null,
      "outputs": []
    },
    {
      "cell_type": "code",
      "metadata": {
        "id": "GXkm2dje_8d8"
      },
      "source": [
        "drive.mount('/content/drive')"
      ],
      "execution_count": null,
      "outputs": []
    },
    {
      "cell_type": "markdown",
      "metadata": {
        "id": "EYOUTUDm7wrT"
      },
      "source": [
        "## MLHub Client\n",
        "\n",
        "The MLHub Client aims at providing a reliable tool for downloading the full LandCoverNet dataset. It's still an experimental project ***if you encounter difficulties do not hesitate to open an issue***."
      ]
    },
    {
      "cell_type": "markdown",
      "metadata": {
        "id": "THmisrkd8GvX"
      },
      "source": [
        "### Authentication\n",
        "\n",
        "To get your access token, go to [dashboard.mlhub.earth](https://dashboard.mlhub.earth/). If you have not used Radiant MLHub before, you will need to sign up and create a new account. Otherwise, sign in. Under Usage, you'll see your access token, which you will need."
      ]
    },
    {
      "cell_type": "code",
      "metadata": {
        "id": "ap733M0T7UJp"
      },
      "source": [
        "API_TOKEN = ''"
      ],
      "execution_count": null,
      "outputs": []
    },
    {
      "cell_type": "markdown",
      "metadata": {
        "id": "2AfwOemP9o7U"
      },
      "source": [
        "### Usage\n",
        "\n"
      ]
    },
    {
      "cell_type": "markdown",
      "metadata": {
        "id": "DwdhMZqQCgIL"
      },
      "source": [
        "#### Initialize the MLHUb client \n",
        "\n",
        "The client is intialized with a default `collection_id` and optional default `feature_id`"
      ]
    },
    {
      "cell_type": "code",
      "metadata": {
        "id": "SP1rFmee9RCu"
      },
      "source": [
        "client = mlhub.Client(api_token=API_TOKEN, \n",
        "                     collection_id='ref_landcovernet_v1_labels',\n",
        "                     feature_id='ref_landcovernet_v1_labels_29NMG_12')"
      ],
      "execution_count": null,
      "outputs": []
    },
    {
      "cell_type": "markdown",
      "metadata": {
        "id": "kQa-IEtRC6On"
      },
      "source": [
        "#### Describe the default collection"
      ]
    },
    {
      "cell_type": "code",
      "metadata": {
        "id": "4t24hDs89U2h"
      },
      "source": [
        "client.describe_collection()"
      ],
      "execution_count": null,
      "outputs": []
    },
    {
      "cell_type": "markdown",
      "metadata": {
        "id": "zum-ms_1K846"
      },
      "source": [
        "#### Get an item from the collection "
      ]
    },
    {
      "cell_type": "code",
      "metadata": {
        "id": "zu9ggbhNK7wE"
      },
      "source": [
        "label_item = client.get_item(collection_id='ref_landcovernet_v1_labels', \n",
        "                             item_id='ref_landcovernet_v1_labels_28QDE_02')\n",
        "source_item = client.get_item(collection_id='ref_landcovernet_v1_source',\n",
        "                              item_id='ref_landcovernet_v1_source_28QDE_02_20180103')"
      ],
      "execution_count": null,
      "outputs": []
    },
    {
      "cell_type": "code",
      "metadata": {
        "id": "6cMhdOKEl8ZW"
      },
      "source": [
        "label_item"
      ],
      "execution_count": null,
      "outputs": []
    },
    {
      "cell_type": "code",
      "metadata": {
        "id": "B3GgNFMUmIKL"
      },
      "source": [
        "source_item"
      ],
      "execution_count": null,
      "outputs": []
    },
    {
      "cell_type": "markdown",
      "metadata": {
        "id": "3MXdIrdMLFCO"
      },
      "source": [
        "#### Get assets from the item"
      ]
    },
    {
      "cell_type": "code",
      "metadata": {
        "id": "ka9jXIeeLt7r"
      },
      "source": [
        "source_item_assets = client.get_item_assets(source_item,\n",
        "                                            ['B01', 'B02', 'B03', 'B04', 'B05', 'B06', 'B07',\n",
        "                                             'B08', 'B8A', 'B09', 'B11', 'B12', 'CLD', 'SCL'])\n",
        "label_item_assets = client.get_item_assets(label_item,\n",
        "                                          ['labels'])"
      ],
      "execution_count": null,
      "outputs": []
    },
    {
      "cell_type": "code",
      "metadata": {
        "id": "1JSrlsyLlqmd"
      },
      "source": [
        "source_item_assets"
      ],
      "execution_count": null,
      "outputs": []
    },
    {
      "cell_type": "code",
      "metadata": {
        "id": "cVrUXt_rmTgb"
      },
      "source": [
        "label_item_assets"
      ],
      "execution_count": null,
      "outputs": []
    },
    {
      "cell_type": "markdown",
      "metadata": {
        "id": "3KIi7du_LVQZ"
      },
      "source": [
        "#### Get multiple items and their respective assets"
      ]
    },
    {
      "cell_type": "code",
      "metadata": {
        "id": "xNUVWMkdYZRB"
      },
      "source": [
        "source_items_refs = [(urlparse(item.get('href')).path.split('/')[-1], item.get('href')) for item in label_item.get('links') if item.get('rel') =='source']\n",
        "source_items_ids = [urlparse(item.get('href')).path.split('/')[-1] for item in label_item.get('links') if item.get('rel') =='source']"
      ],
      "execution_count": null,
      "outputs": []
    },
    {
      "cell_type": "code",
      "metadata": {
        "id": "fa-nAhZnnZk-"
      },
      "source": [
        "source_items_refs"
      ],
      "execution_count": null,
      "outputs": []
    },
    {
      "cell_type": "code",
      "metadata": {
        "id": "uDwKA1EIqWsT"
      },
      "source": [
        "source_items_ids"
      ],
      "execution_count": null,
      "outputs": []
    },
    {
      "cell_type": "code",
      "metadata": {
        "id": "idpN5hRnLu-v"
      },
      "source": [
        "source_items = client.get_items(collection_id='ref_landcovernet_v1_source',\n",
        "                                items_ids = source_items_ids)"
      ],
      "execution_count": null,
      "outputs": []
    },
    {
      "cell_type": "code",
      "metadata": {
        "id": "kAxY7WNRp47J"
      },
      "source": [
        "source_items"
      ],
      "execution_count": null,
      "outputs": []
    },
    {
      "cell_type": "code",
      "metadata": {
        "id": "0fx7RuGAPLgj"
      },
      "source": [
        "source_items_assets = client.get_items_assets(items=source_items,\n",
        "                                              assets_keys=['B01', 'B02', 'B03', 'B04', 'B05', 'B06', 'B07',\n",
        "                                                           'B08', 'B8A', 'B09', 'B11', 'B12', 'CLD', 'SCL'])"
      ],
      "execution_count": null,
      "outputs": []
    },
    {
      "cell_type": "code",
      "metadata": {
        "id": "rVHWzWQJwcaX"
      },
      "source": [
        "source_items_assets"
      ],
      "execution_count": null,
      "outputs": []
    },
    {
      "cell_type": "code",
      "metadata": {
        "id": "1_rnGRlFyXin"
      },
      "source": [
        "source_items_assets_flat = list(chain(*source_items_assets))\n",
        "source_items_assets_flat"
      ],
      "execution_count": null,
      "outputs": []
    },
    {
      "cell_type": "code",
      "metadata": {
        "id": "tuWu8ftxHmPt"
      },
      "source": [
        "source_items_assets_refs = [(f'landcovernet/{asset[0]}/', asset[2]) for asset in source_items_assets_flat]\n",
        "source_items_assets_refs"
      ],
      "execution_count": null,
      "outputs": []
    },
    {
      "cell_type": "markdown",
      "metadata": {
        "id": "Rqxgx76YQdPu"
      },
      "source": [
        "#### Download the items assets"
      ]
    },
    {
      "cell_type": "code",
      "metadata": {
        "id": "ag1NqN8TQoSq"
      },
      "source": [
        "client.downloads(source_items_assets_refs[:10], leave=True)"
      ],
      "execution_count": null,
      "outputs": []
    },
    {
      "cell_type": "markdown",
      "metadata": {
        "id": "pOGnxRel_Dca"
      },
      "source": [
        "## Retrieving The LandCoverNet Dataset"
      ]
    },
    {
      "cell_type": "markdown",
      "metadata": {
        "id": "NjnrA2lkEA79"
      },
      "source": [
        "Radiant MLHub datasets are split into two collections: One contains items for the source imagery and the other items for the labels.\n",
        "\n",
        "- **Label Items** are a JSON object with properties describing the type of label, possible label values, spatial and temporal extents, and links to the label assets to download.\n",
        "  \n",
        "- **Source imagery items** contain all information required to determine the location and time that the imagery was taken, as well as links to download either individual bands of the imagery or the multi-band files.\n",
        "\n",
        "![](https://miro.medium.com/max/1260/1*Ei8QLbju7wfssi7w7NBOUA.png)\n",
        "\n",
        "For more details see Kevin Booth article [Accessing and Downloading Training Data on the Radiant MLHub API ](https://medium.com/radiant-earth-insights/accessing-and-downloading-training-data-on-the-radiant-mlhub-api-f04dc635592f)"
      ]
    },
    {
      "cell_type": "markdown",
      "metadata": {
        "id": "MWWCdt8VK-se"
      },
      "source": [
        "***\n",
        "\n",
        "**The two collections needed for downloading the full LandCovernet datasets are:**\n",
        "\n",
        "- **`ref_landcovernet_v1_source`: includes the multi-temporal bands of Sentinel-2**\n",
        "- **`ref_landcovernet_v1_labels`: includes the labels**\n",
        "\n",
        "[The LandCoverNet dataset documentation](https://radiant-mlhub.s3-us-west-2.amazonaws.com/landcovernet/Documentation.pdf)\n",
        "\n",
        "The LandCoverNet is constited of a total of: \n",
        "\n",
        "- A representative set of **66 Sentinel-2 tiles**:\n",
        "- For each of the 66 tiles **30 image chips of 256 x 256 pixels** at **10m spatial resolution** are selected\n",
        "- For each of the image chips **~73 scenes (temporal observations)** covering 2018 are selected\n",
        "- For each scene **14 bands i.e geoTIFF files** (including cloud cover, scene classification layer are available)\n",
        "\n",
        "The dataset contains roughly 2.100.000 source item assets **(tile X chip x scene x band imagery)**"
      ]
    },
    {
      "cell_type": "markdown",
      "metadata": {
        "id": "29DZg4OCKoPo"
      },
      "source": [
        "### Test downloading both source items assets from the MLHub API"
      ]
    },
    {
      "cell_type": "code",
      "metadata": {
        "id": "gSxr08yZLG5N"
      },
      "source": [
        "test_item_assets = client.get_items_all_assets(uri=client.collection_items_uri,\n",
        "                                   max_items=2,\n",
        "                                   limits=1)"
      ],
      "execution_count": null,
      "outputs": []
    },
    {
      "cell_type": "code",
      "metadata": {
        "id": "rZzxpLqXNy0d"
      },
      "source": [
        "client.downloads(test_item_assets[:10], leave=False)"
      ],
      "execution_count": null,
      "outputs": []
    },
    {
      "cell_type": "markdown",
      "metadata": {
        "id": "zbXL9rJME2h6"
      },
      "source": [
        "### Retrieve both label source items download references from the MLHub API\n",
        "\n",
        "> **Downloading the full dataset on a single core vCPU (as it is the case for google colab) will take between 2-3 hours** \n"
      ]
    },
    {
      "cell_type": "code",
      "metadata": {
        "id": "-okLB3NJ9z6J"
      },
      "source": [
        "items_assets_refs = client.get_items_all_assets(uri=client.collection_items_uri, limits=100)"
      ],
      "execution_count": null,
      "outputs": []
    },
    {
      "cell_type": "markdown",
      "metadata": {
        "id": "wzbI_2QbExDq"
      },
      "source": [
        "### Save References\n",
        "\n",
        "The asset references will expire after 6 hours"
      ]
    },
    {
      "cell_type": "code",
      "metadata": {
        "id": "yDVaHJt5AZwN"
      },
      "source": [
        "results =pd.DataFrame({'assets': items_assets_refs})\n",
        "results.to_csv('landcovernet_assets_references.csv')"
      ],
      "execution_count": null,
      "outputs": []
    },
    {
      "cell_type": "markdown",
      "metadata": {
        "id": "-Hf76kSICe7p"
      },
      "source": [
        "### Download the assets\n",
        "\n",
        "> **Downloading the full dataset on a single core CPU will take several days (downloading only 4% of the dataset took me roughly 8 hours on google colab single core vCPU)**"
      ]
    },
    {
      "cell_type": "code",
      "metadata": {
        "id": "k8wSTen4AhQY"
      },
      "source": [
        "client.downloads(items_assets_refs, leave=False)"
      ],
      "execution_count": null,
      "outputs": []
    }
  ]
}